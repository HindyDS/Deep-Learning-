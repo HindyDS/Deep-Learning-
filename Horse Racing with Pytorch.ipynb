{
 "cells": [
  {
   "cell_type": "markdown",
   "id": "87eefe39",
   "metadata": {},
   "source": [
    "# Flow\n",
    "\n",
    "#### 1) df was created by combining 'races' and 'runs'\n",
    "\n",
    "#### 2) df was splited into X_train, X_test, y_train, y_test before imputation to avoid any overfitting and data leakage\n",
    "\n",
    "#### 3) The missing values in splited dataframes were being imputed with MissForesstExtra(XGBClassifer)\n",
    "\n",
    "#### 4) Those splited dataframes were turned into torch.tensors\n",
    "\n",
    "#### 5) Different DNN were built and trained and evaluated with those splited dataframes\n",
    "\n",
    "#### 6) The best acc achieved were 0.7810 and 0.7829 for trainset and testset respectively\n",
    "\n",
    "#### 7) Underfitting occurs, so we might need to increase the number of features to avoid it"
   ]
  },
  {
   "cell_type": "code",
   "execution_count": 73,
   "id": "7f27ce1e",
   "metadata": {},
   "outputs": [],
   "source": [
    "import pandas as pd\n",
    "import numpy as np\n",
    "import matplotlib.pyplot as plt\n",
    "import seaborn as sns"
   ]
  },
  {
   "cell_type": "code",
   "execution_count": 74,
   "id": "f3a8394d",
   "metadata": {},
   "outputs": [],
   "source": [
    "races = pd.read_csv(\"races.csv\", delimiter=\",\", header=0, index_col='race_id')\n",
    "races.reset_index(inplace=True)\n",
    "runs = pd.read_csv(\"runs.csv\", delimiter=\",\", header=0)"
   ]
  },
  {
   "cell_type": "code",
   "execution_count": 75,
   "id": "85636dde",
   "metadata": {},
   "outputs": [
    {
     "name": "stdout",
     "output_type": "stream",
     "text": [
      "<class 'pandas.core.frame.DataFrame'>\n",
      "RangeIndex: 6349 entries, 0 to 6348\n",
      "Data columns (total 37 columns):\n",
      " #   Column              Non-Null Count  Dtype  \n",
      "---  ------              --------------  -----  \n",
      " 0   race_id             6349 non-null   int64  \n",
      " 1   date                6349 non-null   object \n",
      " 2   venue               6349 non-null   object \n",
      " 3   race_no             6349 non-null   int64  \n",
      " 4   config              6349 non-null   object \n",
      " 5   surface             6349 non-null   int64  \n",
      " 6   distance            6349 non-null   int64  \n",
      " 7   going               6349 non-null   object \n",
      " 8   horse_ratings       6349 non-null   object \n",
      " 9   prize               5887 non-null   float64\n",
      " 10  race_class          6349 non-null   int64  \n",
      " 11  sec_time1           6349 non-null   float64\n",
      " 12  sec_time2           6349 non-null   float64\n",
      " 13  sec_time3           6349 non-null   float64\n",
      " 14  sec_time4           3634 non-null   float64\n",
      " 15  sec_time5           821 non-null    float64\n",
      " 16  sec_time6           115 non-null    float64\n",
      " 17  sec_time7           0 non-null      float64\n",
      " 18  time1               6349 non-null   float64\n",
      " 19  time2               6349 non-null   float64\n",
      " 20  time3               6349 non-null   float64\n",
      " 21  time4               3634 non-null   float64\n",
      " 22  time5               821 non-null    float64\n",
      " 23  time6               115 non-null    float64\n",
      " 24  time7               0 non-null      float64\n",
      " 25  place_combination1  6349 non-null   int64  \n",
      " 26  place_combination2  6349 non-null   int64  \n",
      " 27  place_combination3  6324 non-null   float64\n",
      " 28  place_combination4  23 non-null     float64\n",
      " 29  place_dividend1     6349 non-null   float64\n",
      " 30  place_dividend2     6349 non-null   float64\n",
      " 31  place_dividend3     6324 non-null   float64\n",
      " 32  place_dividend4     23 non-null     float64\n",
      " 33  win_combination1    6349 non-null   int64  \n",
      " 34  win_dividend1       6349 non-null   float64\n",
      " 35  win_combination2    12 non-null     float64\n",
      " 36  win_dividend2       12 non-null     float64\n",
      "dtypes: float64(24), int64(8), object(5)\n",
      "memory usage: 1.8+ MB\n"
     ]
    }
   ],
   "source": [
    "races.info()"
   ]
  },
  {
   "cell_type": "code",
   "execution_count": 76,
   "id": "ae23dda9",
   "metadata": {},
   "outputs": [
    {
     "name": "stdout",
     "output_type": "stream",
     "text": [
      "<class 'pandas.core.frame.DataFrame'>\n",
      "RangeIndex: 79447 entries, 0 to 79446\n",
      "Data columns (total 37 columns):\n",
      " #   Column           Non-Null Count  Dtype  \n",
      "---  ------           --------------  -----  \n",
      " 0   race_id          79447 non-null  int64  \n",
      " 1   horse_no         79447 non-null  int64  \n",
      " 2   horse_id         79447 non-null  int64  \n",
      " 3   result           79447 non-null  int64  \n",
      " 4   won              79447 non-null  float64\n",
      " 5   lengths_behind   79447 non-null  float64\n",
      " 6   horse_age        79447 non-null  int64  \n",
      " 7   horse_country    79445 non-null  object \n",
      " 8   horse_type       79445 non-null  object \n",
      " 9   horse_rating     79447 non-null  int64  \n",
      " 10  horse_gear       79447 non-null  object \n",
      " 11  declared_weight  79447 non-null  float64\n",
      " 12  actual_weight    79447 non-null  int64  \n",
      " 13  draw             79447 non-null  int64  \n",
      " 14  position_sec1    79447 non-null  int64  \n",
      " 15  position_sec2    79447 non-null  int64  \n",
      " 16  position_sec3    79447 non-null  int64  \n",
      " 17  position_sec4    46226 non-null  float64\n",
      " 18  position_sec5    10079 non-null  float64\n",
      " 19  position_sec6    1296 non-null   float64\n",
      " 20  behind_sec1      79447 non-null  float64\n",
      " 21  behind_sec2      79447 non-null  float64\n",
      " 22  behind_sec3      79447 non-null  float64\n",
      " 23  behind_sec4      46226 non-null  float64\n",
      " 24  behind_sec5      10079 non-null  float64\n",
      " 25  behind_sec6      1296 non-null   float64\n",
      " 26  time1            79447 non-null  float64\n",
      " 27  time2            79447 non-null  float64\n",
      " 28  time3            79447 non-null  float64\n",
      " 29  time4            46226 non-null  float64\n",
      " 30  time5            10079 non-null  float64\n",
      " 31  time6            1296 non-null   float64\n",
      " 32  finish_time      79447 non-null  float64\n",
      " 33  win_odds         79447 non-null  float64\n",
      " 34  place_odds       75712 non-null  float64\n",
      " 35  trainer_id       79447 non-null  int64  \n",
      " 36  jockey_id        79447 non-null  int64  \n",
      "dtypes: float64(21), int64(13), object(3)\n",
      "memory usage: 22.4+ MB\n"
     ]
    }
   ],
   "source": [
    "runs.info()"
   ]
  },
  {
   "cell_type": "code",
   "execution_count": 77,
   "id": "1460a787",
   "metadata": {},
   "outputs": [
    {
     "data": {
      "text/plain": [
       "((6349, 37), (79447, 37))"
      ]
     },
     "execution_count": 77,
     "metadata": {},
     "output_type": "execute_result"
    }
   ],
   "source": [
    "races.shape, runs.shape"
   ]
  },
  {
   "cell_type": "code",
   "execution_count": 78,
   "id": "86fd9326",
   "metadata": {},
   "outputs": [],
   "source": [
    "df = pd.merge(runs[['race_id', 'draw', 'horse_age', 'horse_country', 'horse_type', 'horse_rating', 'declared_weight', 'actual_weight', 'win_odds', 'result']], \n",
    "              races[['race_id', 'venue', 'config', 'surface', 'distance', 'going', 'race_class']], on='race_id')"
   ]
  },
  {
   "cell_type": "code",
   "execution_count": 83,
   "id": "b4bdff00",
   "metadata": {},
   "outputs": [],
   "source": [
    "df.drop('race_id', axis=1, inplace=True)"
   ]
  },
  {
   "cell_type": "code",
   "execution_count": 79,
   "id": "b9f2b6fe",
   "metadata": {},
   "outputs": [
    {
     "data": {
      "text/plain": [
       "(79447, 16)"
      ]
     },
     "execution_count": 79,
     "metadata": {},
     "output_type": "execute_result"
    }
   ],
   "source": [
    "df.shape"
   ]
  },
  {
   "cell_type": "code",
   "execution_count": 80,
   "id": "1fdc2e4f",
   "metadata": {},
   "outputs": [
    {
     "data": {
      "text/plain": [
       "horse_country      2\n",
       "horse_type         2\n",
       "race_id            0\n",
       "draw               0\n",
       "horse_age          0\n",
       "horse_rating       0\n",
       "declared_weight    0\n",
       "actual_weight      0\n",
       "win_odds           0\n",
       "result             0\n",
       "venue              0\n",
       "config             0\n",
       "surface            0\n",
       "distance           0\n",
       "going              0\n",
       "race_class         0\n",
       "dtype: int64"
      ]
     },
     "execution_count": 80,
     "metadata": {},
     "output_type": "execute_result"
    }
   ],
   "source": [
    "df.isnull().sum().sort_values(ascending=False)"
   ]
  },
  {
   "cell_type": "code",
   "execution_count": 81,
   "id": "80a3fcb2",
   "metadata": {},
   "outputs": [
    {
     "data": {
      "text/plain": [
       "65986    IRE\n",
       "Name: horse_country, dtype: object"
      ]
     },
     "execution_count": 81,
     "metadata": {},
     "output_type": "execute_result"
    }
   ],
   "source": [
    "df['horse_country'].sample(1)"
   ]
  },
  {
   "cell_type": "code",
   "execution_count": 82,
   "id": "b079ea0f",
   "metadata": {},
   "outputs": [
    {
     "data": {
      "text/plain": [
       "48778    Gelding\n",
       "Name: horse_type, dtype: object"
      ]
     },
     "execution_count": 82,
     "metadata": {},
     "output_type": "execute_result"
    }
   ],
   "source": [
    "df['horse_type'].sample(1)"
   ]
  },
  {
   "cell_type": "code",
   "execution_count": 84,
   "id": "151cdb52",
   "metadata": {},
   "outputs": [],
   "source": [
    "def top3(row):\n",
    "    if row > 3:\n",
    "        return 0\n",
    "    else:\n",
    "        return 1\n",
    "    \n",
    "df['result'] = df['result'].apply(top3)"
   ]
  },
  {
   "cell_type": "code",
   "execution_count": 86,
   "id": "eb05d30a",
   "metadata": {},
   "outputs": [],
   "source": [
    "X = df.drop('result', axis=1)\n",
    "y = df['result']"
   ]
  },
  {
   "cell_type": "code",
   "execution_count": 87,
   "id": "8da0c11a",
   "metadata": {},
   "outputs": [],
   "source": [
    "from sklearn.model_selection import train_test_split\n",
    "X_train, X_test, y_train, y_test = train_test_split(X, y, test_size=.3, random_state=42)"
   ]
  },
  {
   "cell_type": "code",
   "execution_count": 88,
   "id": "790a2ff0",
   "metadata": {},
   "outputs": [
    {
     "name": "stdout",
     "output_type": "stream",
     "text": [
      "(55612, 14)\n",
      "(23835, 14)\n",
      "(55612,)\n",
      "(23835,)\n"
     ]
    }
   ],
   "source": [
    "for dataframe in [X_train, X_test, y_train, y_test]:\n",
    "    print(dataframe.shape)"
   ]
  },
  {
   "cell_type": "code",
   "execution_count": 90,
   "id": "9d0be84a",
   "metadata": {},
   "outputs": [
    {
     "data": {
      "text/plain": [
       "draw               0\n",
       "horse_age          0\n",
       "horse_country      1\n",
       "horse_type         1\n",
       "horse_rating       0\n",
       "declared_weight    0\n",
       "actual_weight      0\n",
       "win_odds           0\n",
       "venue              0\n",
       "config             0\n",
       "surface            0\n",
       "distance           0\n",
       "going              0\n",
       "race_class         0\n",
       "dtype: int64"
      ]
     },
     "execution_count": 90,
     "metadata": {},
     "output_type": "execute_result"
    }
   ],
   "source": [
    "X_train.isnull().sum()"
   ]
  },
  {
   "cell_type": "code",
   "execution_count": 91,
   "id": "f00dbd1e",
   "metadata": {},
   "outputs": [
    {
     "data": {
      "text/plain": [
       "draw               0\n",
       "horse_age          0\n",
       "horse_country      1\n",
       "horse_type         1\n",
       "horse_rating       0\n",
       "declared_weight    0\n",
       "actual_weight      0\n",
       "win_odds           0\n",
       "venue              0\n",
       "config             0\n",
       "surface            0\n",
       "distance           0\n",
       "going              0\n",
       "race_class         0\n",
       "dtype: int64"
      ]
     },
     "execution_count": 91,
     "metadata": {},
     "output_type": "execute_result"
    }
   ],
   "source": [
    "X_test.isnull().sum()"
   ]
  },
  {
   "cell_type": "code",
   "execution_count": 61,
   "id": "128e3c96",
   "metadata": {},
   "outputs": [],
   "source": [
    "from MissForestExtra import MissForestExtra\n",
    "mf = MissForestExtra()"
   ]
  },
  {
   "cell_type": "code",
   "execution_count": 70,
   "id": "a9dca21a",
   "metadata": {},
   "outputs": [],
   "source": [
    "from xgboost import XGBClassifier\n",
    "xgbc = XGBClassifier(use_label_encoder=False)"
   ]
  },
  {
   "cell_type": "code",
   "execution_count": 92,
   "id": "e2008c2e",
   "metadata": {
    "collapsed": true
   },
   "outputs": [
    {
     "name": "stdout",
     "output_type": "stream",
     "text": [
      "[10:12:41] WARNING: C:/Users/Administrator/workspace/xgboost-win64_release_1.3.0/src/learner.cc:1061: Starting in XGBoost 1.3.0, the default evaluation metric used with the objective 'multi:softprob' was changed from 'merror' to 'mlogloss'. Explicitly set eval_metric if you'd like to restore the old behavior.\n",
      "[10:12:48] WARNING: C:/Users/Administrator/workspace/xgboost-win64_release_1.3.0/src/learner.cc:1061: Starting in XGBoost 1.3.0, the default evaluation metric used with the objective 'multi:softprob' was changed from 'merror' to 'mlogloss'. Explicitly set eval_metric if you'd like to restore the old behavior.\n",
      "[10:12:56] WARNING: C:/Users/Administrator/workspace/xgboost-win64_release_1.3.0/src/learner.cc:1061: Starting in XGBoost 1.3.0, the default evaluation metric used with the objective 'multi:softprob' was changed from 'merror' to 'mlogloss'. Explicitly set eval_metric if you'd like to restore the old behavior.\n"
     ]
    },
    {
     "name": "stderr",
     "output_type": "stream",
     "text": [
      "F:\\Anaconda\\lib\\site-packages\\ipykernel_launcher.py:1: SettingWithCopyWarning: \n",
      "A value is trying to be set on a copy of a slice from a DataFrame.\n",
      "Try using .loc[row_indexer,col_indexer] = value instead\n",
      "\n",
      "See the caveats in the documentation: https://pandas.pydata.org/pandas-docs/stable/user_guide/indexing.html#returning-a-view-versus-a-copy\n",
      "  \"\"\"Entry point for launching an IPython kernel.\n"
     ]
    },
    {
     "name": "stdout",
     "output_type": "stream",
     "text": [
      "[10:13:04] WARNING: C:/Users/Administrator/workspace/xgboost-win64_release_1.3.0/src/learner.cc:1061: Starting in XGBoost 1.3.0, the default evaluation metric used with the objective 'multi:softprob' was changed from 'merror' to 'mlogloss'. Explicitly set eval_metric if you'd like to restore the old behavior.\n",
      "[10:13:07] WARNING: C:/Users/Administrator/workspace/xgboost-win64_release_1.3.0/src/learner.cc:1061: Starting in XGBoost 1.3.0, the default evaluation metric used with the objective 'multi:softprob' was changed from 'merror' to 'mlogloss'. Explicitly set eval_metric if you'd like to restore the old behavior.\n",
      "[10:13:11] WARNING: C:/Users/Administrator/workspace/xgboost-win64_release_1.3.0/src/learner.cc:1061: Starting in XGBoost 1.3.0, the default evaluation metric used with the objective 'multi:softprob' was changed from 'merror' to 'mlogloss'. Explicitly set eval_metric if you'd like to restore the old behavior.\n"
     ]
    },
    {
     "name": "stderr",
     "output_type": "stream",
     "text": [
      "F:\\Anaconda\\lib\\site-packages\\ipykernel_launcher.py:2: SettingWithCopyWarning: \n",
      "A value is trying to be set on a copy of a slice from a DataFrame.\n",
      "Try using .loc[row_indexer,col_indexer] = value instead\n",
      "\n",
      "See the caveats in the documentation: https://pandas.pydata.org/pandas-docs/stable/user_guide/indexing.html#returning-a-view-versus-a-copy\n",
      "  \n"
     ]
    }
   ],
   "source": [
    "X_train['horse_country'] = mf.impute(X_train, 'horse_country', xgbc)\n",
    "X_test['horse_country'] = mf.impute(X_test, 'horse_country', xgbc)"
   ]
  },
  {
   "cell_type": "code",
   "execution_count": 93,
   "id": "7e90772c",
   "metadata": {
    "scrolled": true
   },
   "outputs": [
    {
     "name": "stdout",
     "output_type": "stream",
     "text": [
      "[10:13:15] WARNING: C:/Users/Administrator/workspace/xgboost-win64_release_1.3.0/src/learner.cc:1061: Starting in XGBoost 1.3.0, the default evaluation metric used with the objective 'multi:softprob' was changed from 'merror' to 'mlogloss'. Explicitly set eval_metric if you'd like to restore the old behavior.\n",
      "[10:13:20] WARNING: C:/Users/Administrator/workspace/xgboost-win64_release_1.3.0/src/learner.cc:1061: Starting in XGBoost 1.3.0, the default evaluation metric used with the objective 'multi:softprob' was changed from 'merror' to 'mlogloss'. Explicitly set eval_metric if you'd like to restore the old behavior.\n",
      "[10:13:26] WARNING: C:/Users/Administrator/workspace/xgboost-win64_release_1.3.0/src/learner.cc:1061: Starting in XGBoost 1.3.0, the default evaluation metric used with the objective 'multi:softprob' was changed from 'merror' to 'mlogloss'. Explicitly set eval_metric if you'd like to restore the old behavior.\n"
     ]
    },
    {
     "name": "stderr",
     "output_type": "stream",
     "text": [
      "F:\\Anaconda\\lib\\site-packages\\ipykernel_launcher.py:1: SettingWithCopyWarning: \n",
      "A value is trying to be set on a copy of a slice from a DataFrame.\n",
      "Try using .loc[row_indexer,col_indexer] = value instead\n",
      "\n",
      "See the caveats in the documentation: https://pandas.pydata.org/pandas-docs/stable/user_guide/indexing.html#returning-a-view-versus-a-copy\n",
      "  \"\"\"Entry point for launching an IPython kernel.\n"
     ]
    },
    {
     "name": "stdout",
     "output_type": "stream",
     "text": [
      "[10:13:31] WARNING: C:/Users/Administrator/workspace/xgboost-win64_release_1.3.0/src/learner.cc:1061: Starting in XGBoost 1.3.0, the default evaluation metric used with the objective 'multi:softprob' was changed from 'merror' to 'mlogloss'. Explicitly set eval_metric if you'd like to restore the old behavior.\n",
      "[10:13:34] WARNING: C:/Users/Administrator/workspace/xgboost-win64_release_1.3.0/src/learner.cc:1061: Starting in XGBoost 1.3.0, the default evaluation metric used with the objective 'multi:softprob' was changed from 'merror' to 'mlogloss'. Explicitly set eval_metric if you'd like to restore the old behavior.\n",
      "[10:13:36] WARNING: C:/Users/Administrator/workspace/xgboost-win64_release_1.3.0/src/learner.cc:1061: Starting in XGBoost 1.3.0, the default evaluation metric used with the objective 'multi:softprob' was changed from 'merror' to 'mlogloss'. Explicitly set eval_metric if you'd like to restore the old behavior.\n"
     ]
    },
    {
     "name": "stderr",
     "output_type": "stream",
     "text": [
      "F:\\Anaconda\\lib\\site-packages\\ipykernel_launcher.py:2: SettingWithCopyWarning: \n",
      "A value is trying to be set on a copy of a slice from a DataFrame.\n",
      "Try using .loc[row_indexer,col_indexer] = value instead\n",
      "\n",
      "See the caveats in the documentation: https://pandas.pydata.org/pandas-docs/stable/user_guide/indexing.html#returning-a-view-versus-a-copy\n",
      "  \n"
     ]
    }
   ],
   "source": [
    "X_train['horse_type'] = mf.impute(X_train, 'horse_type', xgbc)\n",
    "X_test['horse_type'] = mf.impute(X_test, 'horse_type', xgbc)"
   ]
  },
  {
   "cell_type": "code",
   "execution_count": 94,
   "id": "f6da3001",
   "metadata": {},
   "outputs": [
    {
     "data": {
      "text/plain": [
       "draw               0\n",
       "horse_age          0\n",
       "horse_country      0\n",
       "horse_type         0\n",
       "horse_rating       0\n",
       "declared_weight    0\n",
       "actual_weight      0\n",
       "win_odds           0\n",
       "venue              0\n",
       "config             0\n",
       "surface            0\n",
       "distance           0\n",
       "going              0\n",
       "race_class         0\n",
       "dtype: int64"
      ]
     },
     "execution_count": 94,
     "metadata": {},
     "output_type": "execute_result"
    }
   ],
   "source": [
    "X_train.isnull().sum()"
   ]
  },
  {
   "cell_type": "code",
   "execution_count": 95,
   "id": "a5706347",
   "metadata": {},
   "outputs": [
    {
     "data": {
      "text/plain": [
       "draw               0\n",
       "horse_age          0\n",
       "horse_country      0\n",
       "horse_type         0\n",
       "horse_rating       0\n",
       "declared_weight    0\n",
       "actual_weight      0\n",
       "win_odds           0\n",
       "venue              0\n",
       "config             0\n",
       "surface            0\n",
       "distance           0\n",
       "going              0\n",
       "race_class         0\n",
       "dtype: int64"
      ]
     },
     "execution_count": 95,
     "metadata": {},
     "output_type": "execute_result"
    }
   ],
   "source": [
    "X_test.isnull().sum()"
   ]
  },
  {
   "cell_type": "code",
   "execution_count": 98,
   "id": "3382bb0b",
   "metadata": {},
   "outputs": [],
   "source": [
    "for dataframe in [X_train, X_test]:\n",
    "    for feat in ['horse_country', 'horse_type', 'venue', 'going', 'config']:\n",
    "        dataframe[feat].replace(dataframe[feat].unique(), range(dataframe[feat].nunique()), inplace=True)"
   ]
  },
  {
   "cell_type": "code",
   "execution_count": 102,
   "id": "e49036c0",
   "metadata": {},
   "outputs": [
    {
     "data": {
      "text/html": [
       "<div>\n",
       "<style scoped>\n",
       "    .dataframe tbody tr th:only-of-type {\n",
       "        vertical-align: middle;\n",
       "    }\n",
       "\n",
       "    .dataframe tbody tr th {\n",
       "        vertical-align: top;\n",
       "    }\n",
       "\n",
       "    .dataframe thead th {\n",
       "        text-align: right;\n",
       "    }\n",
       "</style>\n",
       "<table border=\"1\" class=\"dataframe\">\n",
       "  <thead>\n",
       "    <tr style=\"text-align: right;\">\n",
       "      <th></th>\n",
       "      <th>draw</th>\n",
       "      <th>horse_age</th>\n",
       "      <th>horse_country</th>\n",
       "      <th>horse_type</th>\n",
       "      <th>horse_rating</th>\n",
       "      <th>declared_weight</th>\n",
       "      <th>actual_weight</th>\n",
       "      <th>win_odds</th>\n",
       "      <th>venue</th>\n",
       "      <th>config</th>\n",
       "      <th>surface</th>\n",
       "      <th>distance</th>\n",
       "      <th>going</th>\n",
       "      <th>race_class</th>\n",
       "    </tr>\n",
       "  </thead>\n",
       "  <tbody>\n",
       "    <tr>\n",
       "      <th>67372</th>\n",
       "      <td>10</td>\n",
       "      <td>3</td>\n",
       "      <td>0</td>\n",
       "      <td>0</td>\n",
       "      <td>60</td>\n",
       "      <td>1113.0</td>\n",
       "      <td>115</td>\n",
       "      <td>55.0</td>\n",
       "      <td>0</td>\n",
       "      <td>0</td>\n",
       "      <td>0</td>\n",
       "      <td>1400</td>\n",
       "      <td>0</td>\n",
       "      <td>3</td>\n",
       "    </tr>\n",
       "    <tr>\n",
       "      <th>5651</th>\n",
       "      <td>3</td>\n",
       "      <td>3</td>\n",
       "      <td>0</td>\n",
       "      <td>0</td>\n",
       "      <td>60</td>\n",
       "      <td>998.0</td>\n",
       "      <td>113</td>\n",
       "      <td>37.0</td>\n",
       "      <td>1</td>\n",
       "      <td>1</td>\n",
       "      <td>0</td>\n",
       "      <td>1000</td>\n",
       "      <td>0</td>\n",
       "      <td>3</td>\n",
       "    </tr>\n",
       "    <tr>\n",
       "      <th>49</th>\n",
       "      <td>1</td>\n",
       "      <td>3</td>\n",
       "      <td>1</td>\n",
       "      <td>1</td>\n",
       "      <td>60</td>\n",
       "      <td>1074.0</td>\n",
       "      <td>115</td>\n",
       "      <td>2.9</td>\n",
       "      <td>0</td>\n",
       "      <td>1</td>\n",
       "      <td>0</td>\n",
       "      <td>1200</td>\n",
       "      <td>1</td>\n",
       "      <td>1</td>\n",
       "    </tr>\n",
       "    <tr>\n",
       "      <th>49758</th>\n",
       "      <td>3</td>\n",
       "      <td>3</td>\n",
       "      <td>0</td>\n",
       "      <td>0</td>\n",
       "      <td>69</td>\n",
       "      <td>1061.0</td>\n",
       "      <td>122</td>\n",
       "      <td>11.0</td>\n",
       "      <td>1</td>\n",
       "      <td>2</td>\n",
       "      <td>0</td>\n",
       "      <td>1200</td>\n",
       "      <td>1</td>\n",
       "      <td>3</td>\n",
       "    </tr>\n",
       "    <tr>\n",
       "      <th>54937</th>\n",
       "      <td>5</td>\n",
       "      <td>2</td>\n",
       "      <td>2</td>\n",
       "      <td>0</td>\n",
       "      <td>74</td>\n",
       "      <td>1253.0</td>\n",
       "      <td>126</td>\n",
       "      <td>99.0</td>\n",
       "      <td>0</td>\n",
       "      <td>3</td>\n",
       "      <td>0</td>\n",
       "      <td>1000</td>\n",
       "      <td>2</td>\n",
       "      <td>3</td>\n",
       "    </tr>\n",
       "  </tbody>\n",
       "</table>\n",
       "</div>"
      ],
      "text/plain": [
       "       draw  horse_age  horse_country  horse_type  horse_rating  \\\n",
       "67372    10          3              0           0            60   \n",
       "5651      3          3              0           0            60   \n",
       "49        1          3              1           1            60   \n",
       "49758     3          3              0           0            69   \n",
       "54937     5          2              2           0            74   \n",
       "\n",
       "       declared_weight  actual_weight  win_odds  venue  config  surface  \\\n",
       "67372           1113.0            115      55.0      0       0        0   \n",
       "5651             998.0            113      37.0      1       1        0   \n",
       "49              1074.0            115       2.9      0       1        0   \n",
       "49758           1061.0            122      11.0      1       2        0   \n",
       "54937           1253.0            126      99.0      0       3        0   \n",
       "\n",
       "       distance  going  race_class  \n",
       "67372      1400      0           3  \n",
       "5651       1000      0           3  \n",
       "49         1200      1           1  \n",
       "49758      1200      1           3  \n",
       "54937      1000      2           3  "
      ]
     },
     "execution_count": 102,
     "metadata": {},
     "output_type": "execute_result"
    }
   ],
   "source": [
    "X_train.head()"
   ]
  },
  {
   "cell_type": "code",
   "execution_count": 103,
   "id": "d0d015c9",
   "metadata": {},
   "outputs": [],
   "source": [
    "# Scale the data\n",
    "from sklearn.preprocessing import StandardScaler\n",
    "\n",
    "scaler = StandardScaler()\n",
    "X_train = scaler.fit_transform(X_train)\n",
    "X_test = scaler.transform(X_test)"
   ]
  },
  {
   "cell_type": "code",
   "execution_count": 105,
   "id": "15a5332a",
   "metadata": {},
   "outputs": [],
   "source": [
    "X_train = np.array(X_train.astype(np.float32))\n",
    "y_train = np.array(y_train.astype(np.float32))\n",
    "X_test = np.array(X_test.astype(np.float32))\n",
    "y_test = np.array(y_test.astype(np.float32))"
   ]
  },
  {
   "cell_type": "code",
   "execution_count": 107,
   "id": "108d0823",
   "metadata": {},
   "outputs": [],
   "source": [
    "import torch\n",
    "from torch import nn"
   ]
  },
  {
   "cell_type": "code",
   "execution_count": 108,
   "id": "ba829daf",
   "metadata": {},
   "outputs": [],
   "source": [
    "# Convert data into torch tensors\n",
    "X_train = torch.from_numpy(X_train)\n",
    "y_train = torch.from_numpy((y_train).reshape(-1, 1))\n",
    "X_test = torch.from_numpy(X_test)\n",
    "y_test = torch.from_numpy((y_test).reshape(-1, 1))"
   ]
  },
  {
   "cell_type": "code",
   "execution_count": 109,
   "id": "69a37a60",
   "metadata": {},
   "outputs": [],
   "source": [
    "N, D = X_train.shape"
   ]
  },
  {
   "cell_type": "code",
   "execution_count": 137,
   "id": "12fd2ae7",
   "metadata": {},
   "outputs": [],
   "source": [
    "# Build the model\n",
    "model = nn.Sequential(\n",
    "    nn.Linear(D, 1),\n",
    "    nn.ReLU(),\n",
    "    nn.Sigmoid()\n",
    ")"
   ]
  },
  {
   "cell_type": "code",
   "execution_count": 138,
   "id": "169b80b8",
   "metadata": {},
   "outputs": [],
   "source": [
    "def train_model(X_train, y_train, X_test, y_test):\n",
    "    # Loss and optimizer\n",
    "    criterion = nn.BCELoss()\n",
    "    optimizer = torch.optim.Adam(model.parameters())\n",
    "\n",
    "    # Train the model\n",
    "    n_epochs = 1000\n",
    "\n",
    "    # Stuff to store\n",
    "    train_losses = np.zeros(n_epochs)\n",
    "    test_losses = np.zeros(n_epochs)\n",
    "\n",
    "    for it in range(n_epochs):\n",
    "        # zero the parameter gradients\n",
    "        optimizer.zero_grad()\n",
    "\n",
    "        # Forward pass\n",
    "        outputs = model(X_train)\n",
    "        loss = criterion(outputs, y_train)\n",
    "\n",
    "        # Backward and optimize\n",
    "        loss.backward()\n",
    "        optimizer.step()\n",
    "\n",
    "        # Get test loss\n",
    "        outputs_test = model(X_test)\n",
    "        loss_test = criterion(outputs_test, y_test)\n",
    "\n",
    "        # Save losses\n",
    "        train_losses[it] = loss.item()\n",
    "        test_losses[it] = loss_test.item()\n",
    "\n",
    "        if (it + 1) % 50 == 0:\n",
    "            print(f'Epoch {it+1}/{n_epochs}, Train Loss: {loss.item():.4f}, Test Loss: {loss_test.item():.4f}')\n",
    "            \n",
    "    # Plot the train loss and test loss per iteration\n",
    "    plt.plot(train_losses, label='train loss')\n",
    "    plt.plot(test_losses, label='test loss')\n",
    "    plt.legend()\n",
    "    plt.ylabel('Loss')\n",
    "    plt.xlabel('epochs')\n",
    "    sns.despine()\n",
    "    plt.show()\n",
    "\n",
    "    # Get accuracy\n",
    "    with torch.no_grad():\n",
    "        p_train = model(X_train)\n",
    "        p_train = np.round(p_train.numpy())\n",
    "        train_acc = np.mean(y_train.numpy() == p_train)\n",
    "\n",
    "        p_test = model(X_test)\n",
    "        p_test = np.round(p_test.numpy())\n",
    "        test_acc = np.mean(y_test.numpy() == p_test)\n",
    "    print(f\"Train acc: {train_acc:.4f}, Test acc: {test_acc:.4f}\")\n",
    "            \n",
    "    return train_losses, test_losses, model"
   ]
  },
  {
   "cell_type": "code",
   "execution_count": 139,
   "id": "a0bb70d2",
   "metadata": {
    "scrolled": false
   },
   "outputs": [
    {
     "name": "stdout",
     "output_type": "stream",
     "text": [
      "Epoch 50/1000, Train Loss: 0.7184, Test Loss: 0.7189\n",
      "Epoch 100/1000, Train Loss: 0.7027, Test Loss: 0.7026\n",
      "Epoch 150/1000, Train Loss: 0.6958, Test Loss: 0.6957\n",
      "Epoch 200/1000, Train Loss: 0.6937, Test Loss: 0.6937\n",
      "Epoch 250/1000, Train Loss: 0.6933, Test Loss: 0.6933\n",
      "Epoch 300/1000, Train Loss: 0.6932, Test Loss: 0.6932\n",
      "Epoch 350/1000, Train Loss: 0.6932, Test Loss: 0.6932\n",
      "Epoch 400/1000, Train Loss: 0.6931, Test Loss: 0.6932\n",
      "Epoch 450/1000, Train Loss: 0.6931, Test Loss: 0.6932\n",
      "Epoch 500/1000, Train Loss: 0.6931, Test Loss: 0.6932\n",
      "Epoch 550/1000, Train Loss: 0.6931, Test Loss: 0.6932\n",
      "Epoch 600/1000, Train Loss: 0.6931, Test Loss: 0.6932\n",
      "Epoch 650/1000, Train Loss: 0.6931, Test Loss: 0.6932\n",
      "Epoch 700/1000, Train Loss: 0.6931, Test Loss: 0.6932\n",
      "Epoch 750/1000, Train Loss: 0.6931, Test Loss: 0.6932\n",
      "Epoch 800/1000, Train Loss: 0.6931, Test Loss: 0.6932\n",
      "Epoch 850/1000, Train Loss: 0.6931, Test Loss: 0.6932\n",
      "Epoch 900/1000, Train Loss: 0.6931, Test Loss: 0.6932\n",
      "Epoch 950/1000, Train Loss: 0.6931, Test Loss: 0.6932\n",
      "Epoch 1000/1000, Train Loss: 0.6931, Test Loss: 0.6932\n"
     ]
    },
    {
     "data": {
      "image/png": "[encoded data removed]",
      "text/plain": [
       "<Figure size 432x288 with 1 Axes>"
      ]
     },
     "metadata": {
      "needs_background": "light"
     },
     "output_type": "display_data"
    },
    {
     "name": "stdout",
     "output_type": "stream",
     "text": [
      "Train acc: 0.7593, Test acc: 0.7601\n"
     ]
    }
   ],
   "source": [
    "train_losses, test_losses, model = train_model(X_train, y_train, X_test, y_test)"
   ]
  },
  {
   "cell_type": "markdown",
   "id": "207995c4",
   "metadata": {},
   "source": [
    "train acc < test acc: Underfitting"
   ]
  },
  {
   "cell_type": "code",
   "execution_count": 141,
   "id": "b4b892d8",
   "metadata": {},
   "outputs": [
    {
     "name": "stdout",
     "output_type": "stream",
     "text": [
      "Epoch 50/1000, Train Loss: 0.6931, Test Loss: 0.6932\n",
      "Epoch 100/1000, Train Loss: 0.6930, Test Loss: 0.6931\n",
      "Epoch 150/1000, Train Loss: 0.6930, Test Loss: 0.6931\n",
      "Epoch 200/1000, Train Loss: 0.6928, Test Loss: 0.6929\n",
      "Epoch 250/1000, Train Loss: 0.6926, Test Loss: 0.6927\n",
      "Epoch 300/1000, Train Loss: 0.6926, Test Loss: 0.6926\n",
      "Epoch 350/1000, Train Loss: 0.6925, Test Loss: 0.6926\n",
      "Epoch 400/1000, Train Loss: 0.6924, Test Loss: 0.6925\n",
      "Epoch 450/1000, Train Loss: 0.6924, Test Loss: 0.6924\n",
      "Epoch 500/1000, Train Loss: 0.6923, Test Loss: 0.6924\n",
      "Epoch 550/1000, Train Loss: 0.6922, Test Loss: 0.6923\n",
      "Epoch 600/1000, Train Loss: 0.6922, Test Loss: 0.6923\n",
      "Epoch 650/1000, Train Loss: 0.6921, Test Loss: 0.6922\n",
      "Epoch 700/1000, Train Loss: 0.6921, Test Loss: 0.6922\n",
      "Epoch 750/1000, Train Loss: 0.6920, Test Loss: 0.6922\n",
      "Epoch 800/1000, Train Loss: 0.6920, Test Loss: 0.6921\n",
      "Epoch 850/1000, Train Loss: 0.6919, Test Loss: 0.6921\n",
      "Epoch 900/1000, Train Loss: 0.6919, Test Loss: 0.6920\n",
      "Epoch 950/1000, Train Loss: 0.6919, Test Loss: 0.6920\n",
      "Epoch 1000/1000, Train Loss: 0.6918, Test Loss: 0.6920\n"
     ]
    },
    {
     "data": {
      "image/png": "[encoded data removed]",
      "text/plain": [
       "<Figure size 432x288 with 1 Axes>"
      ]
     },
     "metadata": {
      "needs_background": "light"
     },
     "output_type": "display_data"
    },
    {
     "name": "stdout",
     "output_type": "stream",
     "text": [
      "Train acc: 0.7686, Test acc: 0.7682\n"
     ]
    }
   ],
   "source": [
    "# second model\n",
    "model2 = nn.Sequential(\n",
    "    nn.Linear(D, 7),\n",
    "    nn.ReLU(),\n",
    "    nn.Linear(7, 1),\n",
    "    nn.ReLU(),\n",
    "    nn.Sigmoid()\n",
    ")\n",
    "\n",
    "train_losses2, test_losses2, model2 = train_model(X_train, y_train, X_test, y_test)"
   ]
  },
  {
   "cell_type": "markdown",
   "id": "a68cf43e",
   "metadata": {},
   "source": [
    "train acc > test acc: slight overfitting"
   ]
  },
  {
   "cell_type": "code",
   "execution_count": 143,
   "id": "77fb7b78",
   "metadata": {},
   "outputs": [
    {
     "name": "stdout",
     "output_type": "stream",
     "text": [
      "Epoch 50/1000, Train Loss: 0.6918, Test Loss: 0.6919\n",
      "Epoch 100/1000, Train Loss: 0.6917, Test Loss: 0.6919\n",
      "Epoch 150/1000, Train Loss: 0.6917, Test Loss: 0.6919\n",
      "Epoch 200/1000, Train Loss: 0.6916, Test Loss: 0.6918\n",
      "Epoch 250/1000, Train Loss: 0.6916, Test Loss: 0.6918\n",
      "Epoch 300/1000, Train Loss: 0.6916, Test Loss: 0.6917\n",
      "Epoch 350/1000, Train Loss: 0.6915, Test Loss: 0.6917\n",
      "Epoch 400/1000, Train Loss: 0.6915, Test Loss: 0.6917\n",
      "Epoch 450/1000, Train Loss: 0.6915, Test Loss: 0.6916\n",
      "Epoch 500/1000, Train Loss: 0.6914, Test Loss: 0.6916\n",
      "Epoch 550/1000, Train Loss: 0.6914, Test Loss: 0.6916\n",
      "Epoch 600/1000, Train Loss: 0.6914, Test Loss: 0.6916\n",
      "Epoch 650/1000, Train Loss: 0.6913, Test Loss: 0.6915\n",
      "Epoch 700/1000, Train Loss: 0.6913, Test Loss: 0.6915\n",
      "Epoch 750/1000, Train Loss: 0.6913, Test Loss: 0.6915\n",
      "Epoch 800/1000, Train Loss: 0.6912, Test Loss: 0.6915\n",
      "Epoch 850/1000, Train Loss: 0.6912, Test Loss: 0.6914\n",
      "Epoch 900/1000, Train Loss: 0.6912, Test Loss: 0.6914\n",
      "Epoch 950/1000, Train Loss: 0.6912, Test Loss: 0.6914\n",
      "Epoch 1000/1000, Train Loss: 0.6911, Test Loss: 0.6913\n"
     ]
    },
    {
     "data": {
      "image/png": "[encoded data removed]",
      "text/plain": [
       "<Figure size 432x288 with 1 Axes>"
      ]
     },
     "metadata": {
      "needs_background": "light"
     },
     "output_type": "display_data"
    },
    {
     "name": "stdout",
     "output_type": "stream",
     "text": [
      "Train acc: 0.7728, Test acc: 0.7729\n"
     ]
    }
   ],
   "source": [
    "# third model\n",
    "model3 = nn.Sequential(\n",
    "    nn.Linear(D, int(D * 0.7)),\n",
    "    nn.ReLU(),\n",
    "    nn.Linear(int(D * 0.7), int(D * 0.4)),\n",
    "    nn.ReLU(),\n",
    "    nn.Linear(int(D * 0.4), 1),\n",
    "    nn.ReLU(),\n",
    "    nn.Sigmoid()\n",
    ")\n",
    "\n",
    "train_losses3, test_losses3, model3 = train_model(X_train, y_train, X_test, y_test)"
   ]
  },
  {
   "cell_type": "code",
   "execution_count": 145,
   "id": "d66df75e",
   "metadata": {},
   "outputs": [
    {
     "name": "stdout",
     "output_type": "stream",
     "text": [
      "Epoch 50/1000, Train Loss: 0.6911, Test Loss: 0.6913\n",
      "Epoch 100/1000, Train Loss: 0.6911, Test Loss: 0.6913\n",
      "Epoch 150/1000, Train Loss: 0.6910, Test Loss: 0.6913\n",
      "Epoch 200/1000, Train Loss: 0.6910, Test Loss: 0.6912\n",
      "Epoch 250/1000, Train Loss: 0.6910, Test Loss: 0.6912\n",
      "Epoch 300/1000, Train Loss: 0.6909, Test Loss: 0.6912\n",
      "Epoch 350/1000, Train Loss: 0.6909, Test Loss: 0.6912\n",
      "Epoch 400/1000, Train Loss: 0.6909, Test Loss: 0.6912\n",
      "Epoch 450/1000, Train Loss: 0.6909, Test Loss: 0.6911\n",
      "Epoch 500/1000, Train Loss: 0.6908, Test Loss: 0.6911\n",
      "Epoch 550/1000, Train Loss: 0.6908, Test Loss: 0.6911\n",
      "Epoch 600/1000, Train Loss: 0.6908, Test Loss: 0.6911\n",
      "Epoch 650/1000, Train Loss: 0.6908, Test Loss: 0.6911\n",
      "Epoch 700/1000, Train Loss: 0.6908, Test Loss: 0.6910\n",
      "Epoch 750/1000, Train Loss: 0.6907, Test Loss: 0.6910\n",
      "Epoch 800/1000, Train Loss: 0.6907, Test Loss: 0.6910\n",
      "Epoch 850/1000, Train Loss: 0.6907, Test Loss: 0.6910\n",
      "Epoch 900/1000, Train Loss: 0.6907, Test Loss: 0.6910\n",
      "Epoch 950/1000, Train Loss: 0.6907, Test Loss: 0.6910\n",
      "Epoch 1000/1000, Train Loss: 0.6906, Test Loss: 0.6909\n"
     ]
    },
    {
     "data": {
      "image/png": "[encoded data removed]",
      "text/plain": [
       "<Figure size 432x288 with 1 Axes>"
      ]
     },
     "metadata": {
      "needs_background": "light"
     },
     "output_type": "display_data"
    },
    {
     "name": "stdout",
     "output_type": "stream",
     "text": [
      "Train acc: 0.7757, Test acc: 0.7761\n"
     ]
    }
   ],
   "source": [
    "# fourth model\n",
    "model4 = nn.Sequential(\n",
    "    nn.Linear(D, int(D * 0.75)),\n",
    "    nn.ReLU(),\n",
    "    nn.Linear(int(D * 0.75), int(D * 0.5)),\n",
    "    nn.ReLU(),\n",
    "    nn.Linear(int(D * 0.5), int(D * 0.25)),\n",
    "    nn.ReLU(),\n",
    "    nn.Linear(int(D * 0.25), 1),\n",
    "    nn.ReLU(),\n",
    "    nn.Sigmoid()\n",
    ")\n",
    "\n",
    "train_losses4, test_losses4, model4 = train_model(X_train, y_train, X_test, y_test)"
   ]
  },
  {
   "cell_type": "code",
   "execution_count": 146,
   "id": "ae91c297",
   "metadata": {},
   "outputs": [
    {
     "name": "stdout",
     "output_type": "stream",
     "text": [
      "Epoch 50/1000, Train Loss: 0.6906, Test Loss: 0.6909\n",
      "Epoch 100/1000, Train Loss: 0.6906, Test Loss: 0.6909\n",
      "Epoch 150/1000, Train Loss: 0.6906, Test Loss: 0.6909\n",
      "Epoch 200/1000, Train Loss: 0.6905, Test Loss: 0.6909\n",
      "Epoch 250/1000, Train Loss: 0.6905, Test Loss: 0.6908\n",
      "Epoch 300/1000, Train Loss: 0.6905, Test Loss: 0.6908\n",
      "Epoch 350/1000, Train Loss: 0.6905, Test Loss: 0.6908\n",
      "Epoch 400/1000, Train Loss: 0.6905, Test Loss: 0.6908\n",
      "Epoch 450/1000, Train Loss: 0.6904, Test Loss: 0.6908\n",
      "Epoch 500/1000, Train Loss: 0.6904, Test Loss: 0.6908\n",
      "Epoch 550/1000, Train Loss: 0.6904, Test Loss: 0.6908\n",
      "Epoch 600/1000, Train Loss: 0.6904, Test Loss: 0.6907\n",
      "Epoch 650/1000, Train Loss: 0.6904, Test Loss: 0.6907\n",
      "Epoch 700/1000, Train Loss: 0.6903, Test Loss: 0.6907\n",
      "Epoch 750/1000, Train Loss: 0.6903, Test Loss: 0.6907\n",
      "Epoch 800/1000, Train Loss: 0.6903, Test Loss: 0.6907\n",
      "Epoch 850/1000, Train Loss: 0.6903, Test Loss: 0.6907\n",
      "Epoch 900/1000, Train Loss: 0.6903, Test Loss: 0.6906\n",
      "Epoch 950/1000, Train Loss: 0.6903, Test Loss: 0.6906\n",
      "Epoch 1000/1000, Train Loss: 0.6903, Test Loss: 0.6906\n"
     ]
    },
    {
     "data": {
      "image/png": "[encoded data removed]",
      "text/plain": [
       "<Figure size 432x288 with 1 Axes>"
      ]
     },
     "metadata": {
      "needs_background": "light"
     },
     "output_type": "display_data"
    },
    {
     "name": "stdout",
     "output_type": "stream",
     "text": [
      "Train acc: 0.7770, Test acc: 0.7758\n"
     ]
    }
   ],
   "source": [
    "# fifth model\n",
    "model5 = nn.Sequential(\n",
    "    nn.Linear(D, int(D * 0.8)),\n",
    "    nn.ReLU(),\n",
    "    nn.Linear(int(D * 0.8), int(D * 0.6)),\n",
    "    nn.ReLU(),\n",
    "    nn.Linear(int(D * 0.6), int(D * 0.4)),\n",
    "    nn.ReLU(),\n",
    "    nn.Linear(int(D * 0.4), int(D * 0.2)),\n",
    "    nn.ReLU(),\n",
    "    nn.Linear(int(D * 0.2), 1),\n",
    "    nn.ReLU(),\n",
    "    nn.Sigmoid()\n",
    ")\n",
    "\n",
    "train_losses5, test_losses5, model5 = train_model(X_train, y_train, X_test, y_test)"
   ]
  },
  {
   "cell_type": "markdown",
   "id": "ae2ee8d8",
   "metadata": {},
   "source": [
    "1) test acc goes backward\n",
    "\n",
    "2) overfitting "
   ]
  },
  {
   "cell_type": "code",
   "execution_count": 156,
   "id": "5a212636",
   "metadata": {},
   "outputs": [
    {
     "data": {
      "text/html": [
       "<div>\n",
       "<style scoped>\n",
       "    .dataframe tbody tr th:only-of-type {\n",
       "        vertical-align: middle;\n",
       "    }\n",
       "\n",
       "    .dataframe tbody tr th {\n",
       "        vertical-align: top;\n",
       "    }\n",
       "\n",
       "    .dataframe thead th {\n",
       "        text-align: right;\n",
       "    }\n",
       "</style>\n",
       "<table border=\"1\" class=\"dataframe\">\n",
       "  <thead>\n",
       "    <tr style=\"text-align: right;\">\n",
       "      <th></th>\n",
       "      <th>train acc</th>\n",
       "      <th>test acc</th>\n",
       "    </tr>\n",
       "  </thead>\n",
       "  <tbody>\n",
       "    <tr>\n",
       "      <th>0</th>\n",
       "      <td>0.7593</td>\n",
       "      <td>0.7601</td>\n",
       "    </tr>\n",
       "    <tr>\n",
       "      <th>1</th>\n",
       "      <td>0.7686</td>\n",
       "      <td>0.7682</td>\n",
       "    </tr>\n",
       "    <tr>\n",
       "      <th>2</th>\n",
       "      <td>0.7728</td>\n",
       "      <td>0.7729</td>\n",
       "    </tr>\n",
       "    <tr>\n",
       "      <th>3</th>\n",
       "      <td>0.7757</td>\n",
       "      <td>0.7761</td>\n",
       "    </tr>\n",
       "    <tr>\n",
       "      <th>4</th>\n",
       "      <td>0.7770</td>\n",
       "      <td>0.7758</td>\n",
       "    </tr>\n",
       "  </tbody>\n",
       "</table>\n",
       "</div>"
      ],
      "text/plain": [
       "   train acc  test acc\n",
       "0     0.7593    0.7601\n",
       "1     0.7686    0.7682\n",
       "2     0.7728    0.7729\n",
       "3     0.7757    0.7761\n",
       "4     0.7770    0.7758"
      ]
     },
     "execution_count": 156,
     "metadata": {},
     "output_type": "execute_result"
    }
   ],
   "source": [
    "# Score so far\n",
    "train_acc = [0.7593, 0.7686, 0.7728, 0.7757, 0.7770]\n",
    "test_acc = [0.7601, 0.7682, 0.7729, 0.7761, 0.7758]\n",
    "\n",
    "acc = pd.DataFrame([train_acc, test_acc], index=['train acc', 'test acc']).T\n",
    "acc"
   ]
  },
  {
   "cell_type": "code",
   "execution_count": 162,
   "id": "bc9185c9",
   "metadata": {},
   "outputs": [
    {
     "name": "stdout",
     "output_type": "stream",
     "text": [
      "model4 is the best model so far.\n"
     ]
    }
   ],
   "source": [
    "idx = np.argmax(acc['test acc']) + 1\n",
    "print(f'model{idx} is the best model so far.')"
   ]
  },
  {
   "cell_type": "markdown",
   "id": "b300e787",
   "metadata": {},
   "source": [
    "# Try to add dropout layer"
   ]
  },
  {
   "cell_type": "code",
   "execution_count": 149,
   "id": "2e7126a2",
   "metadata": {},
   "outputs": [
    {
     "name": "stdout",
     "output_type": "stream",
     "text": [
      "Epoch 50/1000, Train Loss: 0.6902, Test Loss: 0.6906\n",
      "Epoch 100/1000, Train Loss: 0.6902, Test Loss: 0.6905\n",
      "Epoch 150/1000, Train Loss: 0.6902, Test Loss: 0.6905\n",
      "Epoch 200/1000, Train Loss: 0.6902, Test Loss: 0.6905\n",
      "Epoch 250/1000, Train Loss: 0.6902, Test Loss: 0.6905\n",
      "Epoch 300/1000, Train Loss: 0.6901, Test Loss: 0.6904\n",
      "Epoch 350/1000, Train Loss: 0.6901, Test Loss: 0.6904\n",
      "Epoch 400/1000, Train Loss: 0.6901, Test Loss: 0.6904\n",
      "Epoch 450/1000, Train Loss: 0.6901, Test Loss: 0.6904\n",
      "Epoch 500/1000, Train Loss: 0.6901, Test Loss: 0.6904\n",
      "Epoch 550/1000, Train Loss: 0.6901, Test Loss: 0.6904\n",
      "Epoch 600/1000, Train Loss: 0.6901, Test Loss: 0.6903\n",
      "Epoch 650/1000, Train Loss: 0.6900, Test Loss: 0.6903\n",
      "Epoch 700/1000, Train Loss: 0.6900, Test Loss: 0.6903\n",
      "Epoch 750/1000, Train Loss: 0.6900, Test Loss: 0.6903\n",
      "Epoch 800/1000, Train Loss: 0.6900, Test Loss: 0.6903\n",
      "Epoch 850/1000, Train Loss: 0.6900, Test Loss: 0.6903\n",
      "Epoch 900/1000, Train Loss: 0.6900, Test Loss: 0.6903\n",
      "Epoch 950/1000, Train Loss: 0.6900, Test Loss: 0.6903\n",
      "Epoch 1000/1000, Train Loss: 0.6900, Test Loss: 0.6902\n"
     ]
    },
    {
     "data": {
      "image/png": "[encoded data removed]",
      "text/plain": [
       "<Figure size 432x288 with 1 Axes>"
      ]
     },
     "metadata": {
      "needs_background": "light"
     },
     "output_type": "display_data"
    },
    {
     "name": "stdout",
     "output_type": "stream",
     "text": [
      "Train acc: 0.7784, Test acc: 0.7773\n"
     ]
    }
   ],
   "source": [
    "# fourth model with 0.5 drop out rate\n",
    "model4_do = nn.Sequential(\n",
    "    nn.Dropout(0.5),\n",
    "    nn.Linear(D, int(D * 0.75)),\n",
    "    nn.ReLU(),\n",
    "    nn.Linear(int(D * 0.75), int(D * 0.5)),\n",
    "    nn.ReLU(),\n",
    "    nn.Linear(int(D * 0.5), int(D * 0.25)),\n",
    "    nn.ReLU(),\n",
    "    nn.Linear(int(D * 0.25), 1),\n",
    "    nn.ReLU(),\n",
    "    nn.Sigmoid()\n",
    ")\n",
    "\n",
    "train_losses4_do, test_losses4_do, model4_do = train_model(X_train, y_train, X_test, y_test)"
   ]
  },
  {
   "cell_type": "code",
   "execution_count": 163,
   "id": "1d8d5725",
   "metadata": {},
   "outputs": [
    {
     "name": "stdout",
     "output_type": "stream",
     "text": [
      "Epoch 50/1000, Train Loss: 0.6899, Test Loss: 0.6902\n",
      "Epoch 100/1000, Train Loss: 0.6899, Test Loss: 0.6902\n",
      "Epoch 150/1000, Train Loss: 0.6899, Test Loss: 0.6902\n",
      "Epoch 200/1000, Train Loss: 0.6899, Test Loss: 0.6902\n",
      "Epoch 250/1000, Train Loss: 0.6899, Test Loss: 0.6902\n",
      "Epoch 300/1000, Train Loss: 0.6899, Test Loss: 0.6902\n",
      "Epoch 350/1000, Train Loss: 0.6899, Test Loss: 0.6902\n",
      "Epoch 400/1000, Train Loss: 0.6899, Test Loss: 0.6902\n",
      "Epoch 450/1000, Train Loss: 0.6898, Test Loss: 0.6902\n",
      "Epoch 500/1000, Train Loss: 0.6898, Test Loss: 0.6902\n",
      "Epoch 550/1000, Train Loss: 0.6898, Test Loss: 0.6901\n",
      "Epoch 600/1000, Train Loss: 0.6898, Test Loss: 0.6901\n",
      "Epoch 650/1000, Train Loss: 0.6898, Test Loss: 0.6901\n",
      "Epoch 700/1000, Train Loss: 0.6898, Test Loss: 0.6901\n",
      "Epoch 750/1000, Train Loss: 0.6898, Test Loss: 0.6901\n",
      "Epoch 800/1000, Train Loss: 0.6898, Test Loss: 0.6901\n",
      "Epoch 850/1000, Train Loss: 0.6898, Test Loss: 0.6901\n",
      "Epoch 900/1000, Train Loss: 0.6898, Test Loss: 0.6901\n",
      "Epoch 950/1000, Train Loss: 0.6897, Test Loss: 0.6900\n",
      "Epoch 1000/1000, Train Loss: 0.6897, Test Loss: 0.6900\n"
     ]
    },
    {
     "data": {
      "image/png": "[encoded data removed]",
      "text/plain": [
       "<Figure size 432x288 with 1 Axes>"
      ]
     },
     "metadata": {
      "needs_background": "light"
     },
     "output_type": "display_data"
    },
    {
     "name": "stdout",
     "output_type": "stream",
     "text": [
      "Train acc: 0.7793, Test acc: 0.7791\n"
     ]
    }
   ],
   "source": [
    "# fourth model with 0.4 drop out rate\n",
    "model4_do = nn.Sequential(\n",
    "    nn.Dropout(0.4),\n",
    "    nn.Linear(D, int(D * 0.75)),\n",
    "    nn.ReLU(),\n",
    "    nn.Linear(int(D * 0.75), int(D * 0.5)),\n",
    "    nn.ReLU(),\n",
    "    nn.Linear(int(D * 0.5), int(D * 0.25)),\n",
    "    nn.ReLU(),\n",
    "    nn.Linear(int(D * 0.25), 1),\n",
    "    nn.ReLU(),\n",
    "    nn.Sigmoid()\n",
    ")\n",
    "\n",
    "train_losses4_do, test_losses4_do, model4_do = train_model(X_train, y_train, X_test, y_test)"
   ]
  },
  {
   "cell_type": "markdown",
   "id": "4014d287",
   "metadata": {},
   "source": [
    "0.4 is even better than 0.5"
   ]
  },
  {
   "cell_type": "code",
   "execution_count": 164,
   "id": "dddb7ca0",
   "metadata": {},
   "outputs": [
    {
     "name": "stdout",
     "output_type": "stream",
     "text": [
      "Epoch 50/1000, Train Loss: 0.6897, Test Loss: 0.6900\n",
      "Epoch 100/1000, Train Loss: 0.6897, Test Loss: 0.6900\n",
      "Epoch 150/1000, Train Loss: 0.6897, Test Loss: 0.6900\n",
      "Epoch 200/1000, Train Loss: 0.6897, Test Loss: 0.6900\n",
      "Epoch 250/1000, Train Loss: 0.6897, Test Loss: 0.6900\n",
      "Epoch 300/1000, Train Loss: 0.6897, Test Loss: 0.6900\n",
      "Epoch 350/1000, Train Loss: 0.6897, Test Loss: 0.6899\n",
      "Epoch 400/1000, Train Loss: 0.6897, Test Loss: 0.6899\n",
      "Epoch 450/1000, Train Loss: 0.6896, Test Loss: 0.6899\n",
      "Epoch 500/1000, Train Loss: 0.6896, Test Loss: 0.6899\n",
      "Epoch 550/1000, Train Loss: 0.6896, Test Loss: 0.6899\n",
      "Epoch 600/1000, Train Loss: 0.6896, Test Loss: 0.6899\n",
      "Epoch 650/1000, Train Loss: 0.6896, Test Loss: 0.6899\n",
      "Epoch 700/1000, Train Loss: 0.6896, Test Loss: 0.6899\n",
      "Epoch 750/1000, Train Loss: 0.6896, Test Loss: 0.6899\n",
      "Epoch 800/1000, Train Loss: 0.6896, Test Loss: 0.6899\n",
      "Epoch 850/1000, Train Loss: 0.6896, Test Loss: 0.6899\n",
      "Epoch 900/1000, Train Loss: 0.6896, Test Loss: 0.6899\n",
      "Epoch 950/1000, Train Loss: 0.6896, Test Loss: 0.6899\n",
      "Epoch 1000/1000, Train Loss: 0.6896, Test Loss: 0.6898\n"
     ]
    },
    {
     "data": {
      "image/png": "[encoded data removed]",
      "text/plain": [
       "<Figure size 432x288 with 1 Axes>"
      ]
     },
     "metadata": {
      "needs_background": "light"
     },
     "output_type": "display_data"
    },
    {
     "name": "stdout",
     "output_type": "stream",
     "text": [
      "Train acc: 0.7800, Test acc: 0.7799\n"
     ]
    }
   ],
   "source": [
    "# fourth model with 0.3 drop out rate\n",
    "model4_do = nn.Sequential(\n",
    "    nn.Dropout(0.3),\n",
    "    nn.Linear(D, int(D * 0.75)),\n",
    "    nn.ReLU(),\n",
    "    nn.Linear(int(D * 0.75), int(D * 0.5)),\n",
    "    nn.ReLU(),\n",
    "    nn.Linear(int(D * 0.5), int(D * 0.25)),\n",
    "    nn.ReLU(),\n",
    "    nn.Linear(int(D * 0.25), 1),\n",
    "    nn.ReLU(),\n",
    "    nn.Sigmoid()\n",
    ")\n",
    "\n",
    "train_losses4_do, test_losses4_do, model4_do = train_model(X_train, y_train, X_test, y_test)"
   ]
  },
  {
   "cell_type": "markdown",
   "id": "ab0a31b3",
   "metadata": {},
   "source": [
    "0.3 is even better than 0.4"
   ]
  },
  {
   "cell_type": "code",
   "execution_count": 165,
   "id": "435475d9",
   "metadata": {},
   "outputs": [
    {
     "name": "stdout",
     "output_type": "stream",
     "text": [
      "Epoch 50/1000, Train Loss: 0.6896, Test Loss: 0.6898\n",
      "Epoch 100/1000, Train Loss: 0.6895, Test Loss: 0.6898\n",
      "Epoch 150/1000, Train Loss: 0.6895, Test Loss: 0.6898\n",
      "Epoch 200/1000, Train Loss: 0.6895, Test Loss: 0.6898\n",
      "Epoch 250/1000, Train Loss: 0.6895, Test Loss: 0.6898\n",
      "Epoch 300/1000, Train Loss: 0.6895, Test Loss: 0.6898\n",
      "Epoch 350/1000, Train Loss: 0.6895, Test Loss: 0.6898\n",
      "Epoch 400/1000, Train Loss: 0.6895, Test Loss: 0.6898\n",
      "Epoch 450/1000, Train Loss: 0.6895, Test Loss: 0.6898\n",
      "Epoch 500/1000, Train Loss: 0.6895, Test Loss: 0.6898\n",
      "Epoch 550/1000, Train Loss: 0.6895, Test Loss: 0.6898\n",
      "Epoch 600/1000, Train Loss: 0.6895, Test Loss: 0.6898\n",
      "Epoch 650/1000, Train Loss: 0.6895, Test Loss: 0.6898\n",
      "Epoch 700/1000, Train Loss: 0.6895, Test Loss: 0.6898\n",
      "Epoch 750/1000, Train Loss: 0.6895, Test Loss: 0.6898\n",
      "Epoch 800/1000, Train Loss: 0.6895, Test Loss: 0.6897\n",
      "Epoch 850/1000, Train Loss: 0.6895, Test Loss: 0.6897\n",
      "Epoch 900/1000, Train Loss: 0.6895, Test Loss: 0.6897\n",
      "Epoch 950/1000, Train Loss: 0.6895, Test Loss: 0.6897\n",
      "Epoch 1000/1000, Train Loss: 0.6894, Test Loss: 0.6897\n"
     ]
    },
    {
     "data": {
      "image/png": "[encoded data removed]",
      "text/plain": [
       "<Figure size 432x288 with 1 Axes>"
      ]
     },
     "metadata": {
      "needs_background": "light"
     },
     "output_type": "display_data"
    },
    {
     "name": "stdout",
     "output_type": "stream",
     "text": [
      "Train acc: 0.7808, Test acc: 0.7807\n"
     ]
    }
   ],
   "source": [
    "# fourth model with 0.2 drop out rate\n",
    "model4_do = nn.Sequential(\n",
    "    nn.Dropout(0.2),\n",
    "    nn.Linear(D, int(D * 0.75)),\n",
    "    nn.ReLU(),\n",
    "    nn.Linear(int(D * 0.75), int(D * 0.5)),\n",
    "    nn.ReLU(),\n",
    "    nn.Linear(int(D * 0.5), int(D * 0.25)),\n",
    "    nn.ReLU(),\n",
    "    nn.Linear(int(D * 0.25), 1),\n",
    "    nn.ReLU(),\n",
    "    nn.Sigmoid()\n",
    ")\n",
    "\n",
    "train_losses4_do, test_losses4_do, model4_do = train_model(X_train, y_train, X_test, y_test)"
   ]
  },
  {
   "cell_type": "markdown",
   "id": "4af679b0",
   "metadata": {},
   "source": [
    "0.2 is even better than 0.3"
   ]
  },
  {
   "cell_type": "code",
   "execution_count": 166,
   "id": "6deeb3a4",
   "metadata": {},
   "outputs": [
    {
     "name": "stdout",
     "output_type": "stream",
     "text": [
      "Epoch 50/1000, Train Loss: 0.6894, Test Loss: 0.6897\n",
      "Epoch 100/1000, Train Loss: 0.6894, Test Loss: 0.6897\n",
      "Epoch 150/1000, Train Loss: 0.6894, Test Loss: 0.6897\n",
      "Epoch 200/1000, Train Loss: 0.6894, Test Loss: 0.6897\n",
      "Epoch 250/1000, Train Loss: 0.6894, Test Loss: 0.6897\n",
      "Epoch 300/1000, Train Loss: 0.6894, Test Loss: 0.6897\n",
      "Epoch 350/1000, Train Loss: 0.6894, Test Loss: 0.6897\n",
      "Epoch 400/1000, Train Loss: 0.6894, Test Loss: 0.6897\n",
      "Epoch 450/1000, Train Loss: 0.6894, Test Loss: 0.6897\n",
      "Epoch 500/1000, Train Loss: 0.6894, Test Loss: 0.6897\n",
      "Epoch 550/1000, Train Loss: 0.6894, Test Loss: 0.6897\n",
      "Epoch 600/1000, Train Loss: 0.6894, Test Loss: 0.6897\n",
      "Epoch 650/1000, Train Loss: 0.6894, Test Loss: 0.6897\n",
      "Epoch 700/1000, Train Loss: 0.6894, Test Loss: 0.6897\n",
      "Epoch 750/1000, Train Loss: 0.6894, Test Loss: 0.6897\n",
      "Epoch 800/1000, Train Loss: 0.6894, Test Loss: 0.6897\n",
      "Epoch 850/1000, Train Loss: 0.6894, Test Loss: 0.6897\n",
      "Epoch 900/1000, Train Loss: 0.6894, Test Loss: 0.6896\n",
      "Epoch 950/1000, Train Loss: 0.6894, Test Loss: 0.6896\n",
      "Epoch 1000/1000, Train Loss: 0.6894, Test Loss: 0.6896\n"
     ]
    },
    {
     "data": {
      "image/png": "[encoded data removed]",
      "text/plain": [
       "<Figure size 432x288 with 1 Axes>"
      ]
     },
     "metadata": {
      "needs_background": "light"
     },
     "output_type": "display_data"
    },
    {
     "name": "stdout",
     "output_type": "stream",
     "text": [
      "Train acc: 0.7813, Test acc: 0.7820\n"
     ]
    }
   ],
   "source": [
    "# fourth model with 0.1 drop out rate\n",
    "model4_do = nn.Sequential(\n",
    "    nn.Dropout(0.1),\n",
    "    nn.Linear(D, int(D * 0.75)),\n",
    "    nn.ReLU(),\n",
    "    nn.Linear(int(D * 0.75), int(D * 0.5)),\n",
    "    nn.ReLU(),\n",
    "    nn.Linear(int(D * 0.5), int(D * 0.25)),\n",
    "    nn.ReLU(),\n",
    "    nn.Linear(int(D * 0.25), 1),\n",
    "    nn.ReLU(),\n",
    "    nn.Sigmoid()\n",
    ")\n",
    "\n",
    "train_losses4_do, test_losses4_do, model4_do = train_model(X_train, y_train, X_test, y_test)"
   ]
  },
  {
   "cell_type": "markdown",
   "id": "41bfe25c",
   "metadata": {},
   "source": [
    "1) 0.1 is even better than 0.2\n",
    "\n",
    "2) underfitting occurs"
   ]
  },
  {
   "cell_type": "code",
   "execution_count": 168,
   "id": "2a1cb32c",
   "metadata": {},
   "outputs": [
    {
     "name": "stdout",
     "output_type": "stream",
     "text": [
      "Epoch 50/1000, Train Loss: 0.6894, Test Loss: 0.6896\n",
      "Epoch 100/1000, Train Loss: 0.6894, Test Loss: 0.6896\n",
      "Epoch 150/1000, Train Loss: 0.6893, Test Loss: 0.6896\n",
      "Epoch 200/1000, Train Loss: 0.6893, Test Loss: 0.6896\n",
      "Epoch 250/1000, Train Loss: 0.6893, Test Loss: 0.6896\n",
      "Epoch 300/1000, Train Loss: 0.6893, Test Loss: 0.6896\n",
      "Epoch 350/1000, Train Loss: 0.6893, Test Loss: 0.6896\n",
      "Epoch 400/1000, Train Loss: 0.6893, Test Loss: 0.6896\n",
      "Epoch 450/1000, Train Loss: 0.6893, Test Loss: 0.6896\n",
      "Epoch 500/1000, Train Loss: 0.6893, Test Loss: 0.6896\n",
      "Epoch 550/1000, Train Loss: 0.6893, Test Loss: 0.6896\n",
      "Epoch 600/1000, Train Loss: 0.6893, Test Loss: 0.6896\n",
      "Epoch 650/1000, Train Loss: 0.6893, Test Loss: 0.6896\n",
      "Epoch 700/1000, Train Loss: 0.6893, Test Loss: 0.6896\n",
      "Epoch 750/1000, Train Loss: 0.6893, Test Loss: 0.6895\n",
      "Epoch 800/1000, Train Loss: 0.6893, Test Loss: 0.6895\n",
      "Epoch 850/1000, Train Loss: 0.6893, Test Loss: 0.6895\n",
      "Epoch 900/1000, Train Loss: 0.6893, Test Loss: 0.6895\n",
      "Epoch 950/1000, Train Loss: 0.6893, Test Loss: 0.6895\n",
      "Epoch 1000/1000, Train Loss: 0.6893, Test Loss: 0.6895\n"
     ]
    },
    {
     "data": {
      "image/png": "[encoded data removed]",
      "text/plain": [
       "<Figure size 432x288 with 1 Axes>"
      ]
     },
     "metadata": {
      "needs_background": "light"
     },
     "output_type": "display_data"
    },
    {
     "name": "stdout",
     "output_type": "stream",
     "text": [
      "Train acc: 0.7813, Test acc: 0.7821\n"
     ]
    }
   ],
   "source": [
    "# fourth model with 0.05 drop out rate\n",
    "model4_do = nn.Sequential(\n",
    "    nn.Dropout(0.05),\n",
    "    nn.Linear(D, int(D * 0.75)),\n",
    "    nn.ReLU(),\n",
    "    nn.Linear(int(D * 0.75), int(D * 0.5)),\n",
    "    nn.ReLU(),\n",
    "    nn.Linear(int(D * 0.5), int(D * 0.25)),\n",
    "    nn.ReLU(),\n",
    "    nn.Linear(int(D * 0.25), 1),\n",
    "    nn.ReLU(),\n",
    "    nn.Sigmoid()\n",
    ")\n",
    "\n",
    "train_losses4_do, test_losses4_do, model4_do = train_model(X_train, y_train, X_test, y_test)"
   ]
  },
  {
   "cell_type": "markdown",
   "id": "b3fb178f",
   "metadata": {},
   "source": [
    "1) 0.05 is even better than 0.1\n",
    "\n",
    "2) underfitting got worsened"
   ]
  },
  {
   "cell_type": "code",
   "execution_count": 169,
   "id": "265823c9",
   "metadata": {},
   "outputs": [
    {
     "name": "stdout",
     "output_type": "stream",
     "text": [
      "Epoch 50/1000, Train Loss: 0.6893, Test Loss: 0.6895\n",
      "Epoch 100/1000, Train Loss: 0.6893, Test Loss: 0.6895\n",
      "Epoch 150/1000, Train Loss: 0.6893, Test Loss: 0.6895\n",
      "Epoch 200/1000, Train Loss: 0.6893, Test Loss: 0.6895\n",
      "Epoch 250/1000, Train Loss: 0.6893, Test Loss: 0.6895\n",
      "Epoch 300/1000, Train Loss: 0.6893, Test Loss: 0.6895\n",
      "Epoch 350/1000, Train Loss: 0.6893, Test Loss: 0.6895\n",
      "Epoch 400/1000, Train Loss: 0.6893, Test Loss: 0.6895\n",
      "Epoch 450/1000, Train Loss: 0.6893, Test Loss: 0.6895\n",
      "Epoch 500/1000, Train Loss: 0.6893, Test Loss: 0.6895\n",
      "Epoch 550/1000, Train Loss: 0.6893, Test Loss: 0.6895\n",
      "Epoch 600/1000, Train Loss: 0.6893, Test Loss: 0.6895\n",
      "Epoch 650/1000, Train Loss: 0.6893, Test Loss: 0.6895\n",
      "Epoch 700/1000, Train Loss: 0.6893, Test Loss: 0.6895\n",
      "Epoch 750/1000, Train Loss: 0.6893, Test Loss: 0.6895\n",
      "Epoch 800/1000, Train Loss: 0.6892, Test Loss: 0.6895\n",
      "Epoch 850/1000, Train Loss: 0.6892, Test Loss: 0.6895\n",
      "Epoch 900/1000, Train Loss: 0.6892, Test Loss: 0.6895\n",
      "Epoch 950/1000, Train Loss: 0.6892, Test Loss: 0.6895\n",
      "Epoch 1000/1000, Train Loss: 0.6892, Test Loss: 0.6895\n"
     ]
    },
    {
     "data": {
      "image/png": "[encoded data removed]",
      "text/plain": [
       "<Figure size 432x288 with 1 Axes>"
      ]
     },
     "metadata": {
      "needs_background": "light"
     },
     "output_type": "display_data"
    },
    {
     "name": "stdout",
     "output_type": "stream",
     "text": [
      "Train acc: 0.7810, Test acc: 0.7829\n"
     ]
    }
   ],
   "source": [
    "# fourth model with 0.025 drop out rate\n",
    "model4_do = nn.Sequential(\n",
    "    nn.Dropout(0.025),\n",
    "    nn.Linear(D, int(D * 0.75)),\n",
    "    nn.ReLU(),\n",
    "    nn.Linear(int(D * 0.75), int(D * 0.5)),\n",
    "    nn.ReLU(),\n",
    "    nn.Linear(int(D * 0.5), int(D * 0.25)),\n",
    "    nn.ReLU(),\n",
    "    nn.Linear(int(D * 0.25), 1),\n",
    "    nn.ReLU(),\n",
    "    nn.Sigmoid()\n",
    ")\n",
    "\n",
    "train_losses4_do, test_losses4_do, model4_do = train_model(X_train, y_train, X_test, y_test)"
   ]
  },
  {
   "cell_type": "markdown",
   "id": "11eeb69f",
   "metadata": {},
   "source": [
    "1) 0.025 is even better than 0.05\n",
    "\n",
    "2) underfitting got worsened"
   ]
  },
  {
   "cell_type": "code",
   "execution_count": 170,
   "id": "8ff1b0c6",
   "metadata": {},
   "outputs": [
    {
     "name": "stdout",
     "output_type": "stream",
     "text": [
      "Epoch 50/1000, Train Loss: 0.6892, Test Loss: 0.6895\n",
      "Epoch 100/1000, Train Loss: 0.6892, Test Loss: 0.6895\n",
      "Epoch 150/1000, Train Loss: 0.6892, Test Loss: 0.6895\n",
      "Epoch 200/1000, Train Loss: 0.6892, Test Loss: 0.6895\n",
      "Epoch 250/1000, Train Loss: 0.6892, Test Loss: 0.6895\n",
      "Epoch 300/1000, Train Loss: 0.6892, Test Loss: 0.6895\n",
      "Epoch 350/1000, Train Loss: 0.6892, Test Loss: 0.6895\n",
      "Epoch 400/1000, Train Loss: 0.6892, Test Loss: 0.6895\n",
      "Epoch 450/1000, Train Loss: 0.6892, Test Loss: 0.6895\n",
      "Epoch 500/1000, Train Loss: 0.6892, Test Loss: 0.6895\n",
      "Epoch 550/1000, Train Loss: 0.6892, Test Loss: 0.6895\n",
      "Epoch 600/1000, Train Loss: 0.6892, Test Loss: 0.6895\n",
      "Epoch 650/1000, Train Loss: 0.6892, Test Loss: 0.6895\n",
      "Epoch 700/1000, Train Loss: 0.6892, Test Loss: 0.6895\n",
      "Epoch 750/1000, Train Loss: 0.6892, Test Loss: 0.6895\n",
      "Epoch 800/1000, Train Loss: 0.6892, Test Loss: 0.6894\n",
      "Epoch 850/1000, Train Loss: 0.6892, Test Loss: 0.6894\n",
      "Epoch 900/1000, Train Loss: 0.6892, Test Loss: 0.6894\n",
      "Epoch 950/1000, Train Loss: 0.6892, Test Loss: 0.6894\n",
      "Epoch 1000/1000, Train Loss: 0.6892, Test Loss: 0.6894\n"
     ]
    },
    {
     "data": {
      "image/png": "[encoded data removed]",
      "text/plain": [
       "<Figure size 432x288 with 1 Axes>"
      ]
     },
     "metadata": {
      "needs_background": "light"
     },
     "output_type": "display_data"
    },
    {
     "name": "stdout",
     "output_type": "stream",
     "text": [
      "Train acc: 0.7811, Test acc: 0.7826\n"
     ]
    }
   ],
   "source": [
    "# fourth model with 0.0125 drop out rate\n",
    "model4_do = nn.Sequential(\n",
    "    nn.Dropout(0.0125),\n",
    "    nn.Linear(D, int(D * 0.75)),\n",
    "    nn.ReLU(),\n",
    "    nn.Linear(int(D * 0.75), int(D * 0.5)),\n",
    "    nn.ReLU(),\n",
    "    nn.Linear(int(D * 0.5), int(D * 0.25)),\n",
    "    nn.ReLU(),\n",
    "    nn.Linear(int(D * 0.25), 1),\n",
    "    nn.ReLU(),\n",
    "    nn.Sigmoid()\n",
    ")\n",
    "\n",
    "train_losses4_do, test_losses4_do, model4_do = train_model(X_train, y_train, X_test, y_test)"
   ]
  },
  {
   "cell_type": "markdown",
   "id": "ad98c4b4",
   "metadata": {},
   "source": [
    "test acc goes backward"
   ]
  },
  {
   "cell_type": "code",
   "execution_count": 172,
   "id": "4706bb18",
   "metadata": {},
   "outputs": [
    {
     "data": {
      "text/html": [
       "<div>\n",
       "<style scoped>\n",
       "    .dataframe tbody tr th:only-of-type {\n",
       "        vertical-align: middle;\n",
       "    }\n",
       "\n",
       "    .dataframe tbody tr th {\n",
       "        vertical-align: top;\n",
       "    }\n",
       "\n",
       "    .dataframe thead th {\n",
       "        text-align: right;\n",
       "    }\n",
       "</style>\n",
       "<table border=\"1\" class=\"dataframe\">\n",
       "  <thead>\n",
       "    <tr style=\"text-align: right;\">\n",
       "      <th></th>\n",
       "      <th>train acc</th>\n",
       "      <th>test acc</th>\n",
       "    </tr>\n",
       "  </thead>\n",
       "  <tbody>\n",
       "    <tr>\n",
       "      <th>0</th>\n",
       "      <td>0.7793</td>\n",
       "      <td>0.7791</td>\n",
       "    </tr>\n",
       "    <tr>\n",
       "      <th>1</th>\n",
       "      <td>0.7800</td>\n",
       "      <td>0.7799</td>\n",
       "    </tr>\n",
       "    <tr>\n",
       "      <th>2</th>\n",
       "      <td>0.7808</td>\n",
       "      <td>0.7807</td>\n",
       "    </tr>\n",
       "    <tr>\n",
       "      <th>3</th>\n",
       "      <td>0.7813</td>\n",
       "      <td>0.7820</td>\n",
       "    </tr>\n",
       "    <tr>\n",
       "      <th>4</th>\n",
       "      <td>0.7813</td>\n",
       "      <td>0.7821</td>\n",
       "    </tr>\n",
       "    <tr>\n",
       "      <th>5</th>\n",
       "      <td>0.7810</td>\n",
       "      <td>0.7829</td>\n",
       "    </tr>\n",
       "    <tr>\n",
       "      <th>6</th>\n",
       "      <td>0.7811</td>\n",
       "      <td>0.7826</td>\n",
       "    </tr>\n",
       "  </tbody>\n",
       "</table>\n",
       "</div>"
      ],
      "text/plain": [
       "   train acc  test acc\n",
       "0     0.7793    0.7791\n",
       "1     0.7800    0.7799\n",
       "2     0.7808    0.7807\n",
       "3     0.7813    0.7820\n",
       "4     0.7813    0.7821\n",
       "5     0.7810    0.7829\n",
       "6     0.7811    0.7826"
      ]
     },
     "execution_count": 172,
     "metadata": {},
     "output_type": "execute_result"
    }
   ],
   "source": [
    "# acc with do so far\n",
    "train_acc = [0.7793, 0.7800, 0.7808, 0.7813, 0.7813, 0.7810, 0.7811]\n",
    "test_acc = [0.7791, 0.7799, 0.7807, 0.7820, 0.7821, 0.7829, 0.7826]\n",
    "\n",
    "acc = pd.DataFrame([train_acc, test_acc], index=['train acc', 'test acc']).T\n",
    "acc"
   ]
  },
  {
   "cell_type": "code",
   "execution_count": 173,
   "id": "0ad55eea",
   "metadata": {},
   "outputs": [
    {
     "name": "stdout",
     "output_type": "stream",
     "text": [
      "model6 is the best model so far.\n"
     ]
    }
   ],
   "source": [
    "idx = np.argmax(acc['test acc']) + 1\n",
    "print(f'model{idx} is the best model so far.')"
   ]
  },
  {
   "cell_type": "markdown",
   "id": "353dcfa8",
   "metadata": {},
   "source": [
    "# Since underfitting occurs, we might try to increase the number of features. "
   ]
  }
 ],
 "metadata": {
  "kernelspec": {
   "display_name": "Python 3",
   "language": "python",
   "name": "python3"
  },
  "language_info": {
   "codemirror_mode": {
    "name": "ipython",
    "version": 3
   },
   "file_extension": ".py",
   "mimetype": "text/x-python",
   "name": "python",
   "nbconvert_exporter": "python",
   "pygments_lexer": "ipython3",
   "version": "3.7.10"
  }
 },
 "nbformat": 4,
 "nbformat_minor": 5
}
