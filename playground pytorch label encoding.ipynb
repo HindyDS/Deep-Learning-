{
 "cells": [
  {
   "cell_type": "code",
   "execution_count": 32,
   "id": "b25303cd",
   "metadata": {},
   "outputs": [],
   "source": [
    "import torch\n",
    "from torch import nn\n",
    "from torch.utils.data import DataLoader\n",
    "from torchvision import datasets\n",
    "from torchvision.transforms import ToTensor, Lambda, Compose\n",
    "import matplotlib.pyplot as plt\n",
    "import pandas as pd\n",
    "import numpy as np"
   ]
  },
  {
   "cell_type": "code",
   "execution_count": 33,
   "id": "3e662e15",
   "metadata": {},
   "outputs": [],
   "source": [
    "train = pd.read_csv('Desktop/jupyter/tabular-playground-series-mar-2021/train.csv')\n",
    "test = pd.read_csv('Desktop/jupyter/tabular-playground-series-mar-2021/test.csv')\n",
    "sample_submission = pd.read_csv('Desktop/jupyter/tabular-playground-series-mar-2021/sample_submission.csv')\n",
    "\n",
    "train.drop('id', axis=1, inplace=True)\n",
    "test.drop('id', axis=1, inplace=True)\n",
    "\n",
    "# label encoding\n",
    "for col in train.columns[:19].to_list():\n",
    "    train[col].replace(train[col].unique(), range(train[col].nunique()), inplace=True)\n",
    "    test[col].replace(test[col].unique(), range(test[col].nunique()), inplace=True)"
   ]
  },
  {
   "cell_type": "code",
   "execution_count": 34,
   "id": "c05ec5bc",
   "metadata": {},
   "outputs": [],
   "source": [
    "N = len(train)\n",
    "X_train = train.drop('target', axis=1)\n",
    "y_train = train['target']\n",
    "X_test = test"
   ]
  },
  {
   "cell_type": "code",
   "execution_count": 35,
   "id": "53402cd9",
   "metadata": {},
   "outputs": [],
   "source": [
    "from sklearn.model_selection import train_test_split\n",
    "X_train, X_val, y_train, y_val = train_test_split(X_train, y_train)"
   ]
  },
  {
   "cell_type": "code",
   "execution_count": 36,
   "id": "335d8674",
   "metadata": {},
   "outputs": [],
   "source": [
    "N, D = X_train.shape"
   ]
  },
  {
   "cell_type": "code",
   "execution_count": 37,
   "id": "eba67469",
   "metadata": {},
   "outputs": [],
   "source": [
    "# Scale the data\n",
    "# you'll learn why scaling is needed in a later course\n",
    "from sklearn.preprocessing import StandardScaler\n",
    "\n",
    "scaler = StandardScaler()\n",
    "X_train = scaler.fit_transform(X_train)\n",
    "X_test = scaler.transform(X_test)\n",
    "X_val = scaler.transform(X_val)"
   ]
  },
  {
   "cell_type": "code",
   "execution_count": 39,
   "id": "83ec193c",
   "metadata": {},
   "outputs": [],
   "source": [
    "X_train = np.array(X_train.astype(np.float32))\n",
    "y_train = np.array(y_train.astype(np.float32))\n",
    "X_test = np.array(X_test.astype(np.float32))\n",
    "X_val = np.array(X_val.astype(np.float32))\n",
    "y_val = np.array(y_val.astype(np.float32))"
   ]
  },
  {
   "cell_type": "code",
   "execution_count": 40,
   "id": "44cda665",
   "metadata": {},
   "outputs": [],
   "source": [
    "# Convert data into torch tensors\n",
    "X_train = torch.from_numpy(X_train)\n",
    "y_train = torch.from_numpy((y_train).reshape(-1, 1))\n",
    "X_test = torch.from_numpy(X_test)\n",
    "X_val = torch.from_numpy(X_val)\n",
    "y_val = torch.from_numpy((y_val).reshape(-1, 1))"
   ]
  },
  {
   "cell_type": "code",
   "execution_count": 133,
   "id": "f088f28c",
   "metadata": {},
   "outputs": [],
   "source": [
    "# Now all the fun PyTorch stuff\n",
    "# Build the model\n",
    "model = nn.Sequential(\n",
    "    nn.BatchNorm1d(D),\n",
    "    nn.Linear(D, int(D*0.7)),\n",
    "    nn.ReLU(),\n",
    "    nn.BatchNorm1d(int(D*0.7)),\n",
    "    nn.Linear(int(D*0.7), int(D*0.5)),\n",
    "    nn.ReLU(),\n",
    "    nn.BatchNorm1d(int(D*0.5)),\n",
    "    nn.Linear(int(D*0.5), int(D*0.3)),\n",
    "    nn.ReLU(),\n",
    "    nn.BatchNorm1d(int(D*0.3)),\n",
    "    nn.Linear(int(D*0.3), int(D*0.1)),\n",
    "    nn.ReLU(),\n",
    "    nn.BatchNorm1d(int(D*0.1)),\n",
    "    nn.Linear(int(D*0.1), 1),\n",
    "    nn.Sigmoid()\n",
    ")"
   ]
  },
  {
   "cell_type": "code",
   "execution_count": 134,
   "id": "95f57197",
   "metadata": {
    "scrolled": false
   },
   "outputs": [
    {
     "name": "stdout",
     "output_type": "stream",
     "text": [
      "Epoch 50/1000, Train Loss: 0.5048, Test Loss: 0.5034\n",
      "Epoch 100/1000, Train Loss: 0.4611, Test Loss: 0.4600\n",
      "Epoch 150/1000, Train Loss: 0.4340, Test Loss: 0.4333\n",
      "Epoch 200/1000, Train Loss: 0.4182, Test Loss: 0.4187\n",
      "Epoch 250/1000, Train Loss: 0.4080, Test Loss: 0.4086\n",
      "Epoch 300/1000, Train Loss: 0.3998, Test Loss: 0.4008\n",
      "Epoch 350/1000, Train Loss: 0.3949, Test Loss: 0.3951\n",
      "Epoch 400/1000, Train Loss: 0.3907, Test Loss: 0.3915\n",
      "Epoch 450/1000, Train Loss: 0.3887, Test Loss: 0.3894\n",
      "Epoch 500/1000, Train Loss: 0.3867, Test Loss: 0.3883\n",
      "Epoch 550/1000, Train Loss: 0.3853, Test Loss: 0.3866\n",
      "Epoch 600/1000, Train Loss: 0.3841, Test Loss: 0.3858\n",
      "Epoch 650/1000, Train Loss: 0.3830, Test Loss: 0.3834\n",
      "Epoch 700/1000, Train Loss: 0.3823, Test Loss: 0.3839\n",
      "Epoch 750/1000, Train Loss: 0.3817, Test Loss: 0.3834\n",
      "Epoch 800/1000, Train Loss: 0.3810, Test Loss: 0.3830\n",
      "Epoch 850/1000, Train Loss: 0.3804, Test Loss: 0.3834\n",
      "Epoch 900/1000, Train Loss: 0.3809, Test Loss: 0.3829\n",
      "Epoch 950/1000, Train Loss: 0.3809, Test Loss: 0.3822\n",
      "Epoch 1000/1000, Train Loss: 0.3803, Test Loss: 0.3819\n"
     ]
    }
   ],
   "source": [
    "# Loss and optimizer\n",
    "criterion = nn.BCELoss()\n",
    "optimizer = torch.optim.Adam(model.parameters())\n",
    "\n",
    "# Train the model\n",
    "n_epochs = 1000\n",
    "\n",
    "# Stuff to store\n",
    "train_losses = np.zeros(n_epochs)\n",
    "test_losses = np.zeros(n_epochs)\n",
    "\n",
    "for it in range(n_epochs):\n",
    "    # zero the parameter gradients\n",
    "    optimizer.zero_grad()\n",
    "\n",
    "    # Forward pass\n",
    "    outputs = model(X_train)\n",
    "    loss = criterion(outputs, y_train)\n",
    "\n",
    "    # Backward and optimize\n",
    "    loss.backward()\n",
    "    optimizer.step()\n",
    "\n",
    "    # Get test loss\n",
    "    outputs_test = model(X_val)\n",
    "    loss_test = criterion(outputs_test, y_val)\n",
    "\n",
    "    # Save losses\n",
    "    train_losses[it] = loss.item()\n",
    "    test_losses[it] = loss_test.item()\n",
    "\n",
    "    if (it + 1) % 50 == 0:\n",
    "        print(f'Epoch {it+1}/{n_epochs}, Train Loss: {loss.item():.4f}, Test Loss: {loss_test.item():.4f}')"
   ]
  },
  {
   "cell_type": "code",
   "execution_count": 135,
   "id": "8a83acc7",
   "metadata": {},
   "outputs": [
    {
     "data": {
      "image/png": "[encoded data removed]",
      "text/plain": [
       "<Figure size 432x288 with 1 Axes>"
      ]
     },
     "metadata": {
      "needs_background": "light"
     },
     "output_type": "display_data"
    }
   ],
   "source": [
    "# Plot the train loss and test loss per iteration\n",
    "plt.plot(train_losses, label='train loss')\n",
    "plt.plot(test_losses, label='test loss')\n",
    "plt.legend()\n",
    "plt.show()"
   ]
  },
  {
   "cell_type": "code",
   "execution_count": 136,
   "id": "4339a7e2",
   "metadata": {},
   "outputs": [
    {
     "name": "stdout",
     "output_type": "stream",
     "text": [
      "Train acc: 0.8354, Test acc: 0.8356\n"
     ]
    }
   ],
   "source": [
    "# Get accuracy\n",
    "with torch.no_grad():\n",
    "    p_train = model(X_train)\n",
    "    p_train = np.round(p_train.numpy())\n",
    "    train_acc = np.mean(y_train.numpy() == p_train)\n",
    "\n",
    "    p_val = model(X_val)\n",
    "    p_val = np.round(p_val.numpy())\n",
    "    test_acc = np.mean(y_val.numpy() == p_val)\n",
    "print(f\"Train acc: {train_acc:.4f}, Test acc: {test_acc:.4f}\")"
   ]
  },
  {
   "cell_type": "code",
   "execution_count": null,
   "id": "af9a6f26",
   "metadata": {},
   "outputs": [],
   "source": [
    "# Train acc: 0.8435, Test acc: 0.8422\n",
    "# .7 .5 .3 .1 Train acc: 0.8443, Test acc: 0.8417\n",
    "# .8 .6 .4 .2 Train acc: 0.8455, Test acc: 0.8401 over fitting "
   ]
  }
 ],
 "metadata": {
  "kernelspec": {
   "display_name": "Python 3",
   "language": "python",
   "name": "python3"
  },
  "language_info": {
   "codemirror_mode": {
    "name": "ipython",
    "version": 3
   },
   "file_extension": ".py",
   "mimetype": "text/x-python",
   "name": "python",
   "nbconvert_exporter": "python",
   "pygments_lexer": "ipython3",
   "version": "3.8.8"
  }
 },
 "nbformat": 4,
 "nbformat_minor": 5
}
